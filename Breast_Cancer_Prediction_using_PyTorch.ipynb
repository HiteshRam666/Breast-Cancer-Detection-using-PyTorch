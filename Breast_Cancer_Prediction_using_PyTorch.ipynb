{
  "nbformat": 4,
  "nbformat_minor": 0,
  "metadata": {
    "colab": {
      "provenance": [],
      "gpuType": "T4"
    },
    "kernelspec": {
      "name": "python3",
      "display_name": "Python 3"
    },
    "language_info": {
      "name": "python"
    },
    "accelerator": "GPU"
  },
  "cells": [
    {
      "cell_type": "markdown",
      "source": [
        "##**Import Dependencies**"
      ],
      "metadata": {
        "id": "4FKlGPa_CC5y"
      }
    },
    {
      "cell_type": "code",
      "execution_count": 1,
      "metadata": {
        "id": "FzRRTKB8B8nz"
      },
      "outputs": [],
      "source": [
        "import torch\n",
        "from torch import nn\n",
        "import torch.optim as optim\n",
        "from sklearn.datasets import load_breast_cancer\n",
        "from sklearn.model_selection import train_test_split\n",
        "from sklearn.preprocessing import StandardScaler"
      ]
    },
    {
      "cell_type": "markdown",
      "source": [
        "###**Device Configuration**"
      ],
      "metadata": {
        "id": "JIyDH0nDCbwX"
      }
    },
    {
      "cell_type": "code",
      "source": [
        "# Check for CUDA availability\n",
        "device = torch.device(\"cuda\" if torch.cuda.is_available() else 'cpu')\n",
        "print(f\"Using device: {device}\")"
      ],
      "metadata": {
        "colab": {
          "base_uri": "https://localhost:8080/"
        },
        "id": "ToWa0YWQCbCY",
        "outputId": "8ffc5275-6e24-41d4-eabf-8586bb4e0752"
      },
      "execution_count": 2,
      "outputs": [
        {
          "output_type": "stream",
          "name": "stdout",
          "text": [
            "Using device: cuda\n"
          ]
        }
      ]
    },
    {
      "cell_type": "markdown",
      "source": [
        "##**Data Collection & Preprocessing**"
      ],
      "metadata": {
        "id": "NRFatFKpC0-3"
      }
    },
    {
      "cell_type": "code",
      "source": [
        "# Load the dataset\n",
        "data = load_breast_cancer()"
      ],
      "metadata": {
        "id": "1hK04Ie2Cxdx"
      },
      "execution_count": 13,
      "outputs": []
    },
    {
      "cell_type": "code",
      "source": [
        "X = data.data\n",
        "y = data.target"
      ],
      "metadata": {
        "id": "CKKi1NT-DBQn"
      },
      "execution_count": 14,
      "outputs": []
    },
    {
      "cell_type": "code",
      "source": [
        "# Splitting dataset into training and test set\n",
        "X_train, X_test, y_train, y_test = train_test_split(X, y, test_size = 0.2, random_state = 42)"
      ],
      "metadata": {
        "id": "LjxJaHSWDMC3"
      },
      "execution_count": 15,
      "outputs": []
    },
    {
      "cell_type": "code",
      "source": [
        "print(X.shape)\n",
        "print(X_train.shape)\n",
        "print(X_test.shape)"
      ],
      "metadata": {
        "colab": {
          "base_uri": "https://localhost:8080/"
        },
        "id": "pdYD2fPxDgWf",
        "outputId": "1ede8b32-c6f8-4efb-f9b8-4a107d3a347a"
      },
      "execution_count": 16,
      "outputs": [
        {
          "output_type": "stream",
          "name": "stdout",
          "text": [
            "(569, 30)\n",
            "(455, 30)\n",
            "(114, 30)\n"
          ]
        }
      ]
    },
    {
      "cell_type": "code",
      "source": [
        "# Standardizing the data using StandardScaler()\n",
        "scaler = StandardScaler()\n",
        "X_train = scaler.fit_transform(X_train)\n",
        "X_test = scaler.transform(X_test)"
      ],
      "metadata": {
        "id": "td3JX-IrDnhW"
      },
      "execution_count": 17,
      "outputs": []
    },
    {
      "cell_type": "code",
      "source": [
        "# Convert data to pytorch tensors\n",
        "X_train = torch.tensor(X_train, dtype = torch.float32).to(device)\n",
        "y_train = torch.tensor(y_train, dtype = torch.float32).to(device)\n",
        "X_test = torch.tensor(X_test, dtype = torch.float32).to(device)\n",
        "y_test = torch.tensor(y_test, dtype = torch.float32).to(device)"
      ],
      "metadata": {
        "id": "oc3uhA8eFH43"
      },
      "execution_count": 18,
      "outputs": []
    },
    {
      "cell_type": "markdown",
      "source": [
        "##**Neural Network Architecture**"
      ],
      "metadata": {
        "id": "rFWAO_MKGwS_"
      }
    },
    {
      "cell_type": "code",
      "source": [
        "class NeuralNet(nn.Module):\n",
        "  def __init__(self, input_size, hidden_size, output_size):\n",
        "    super().__init__()\n",
        "    self.fc1 = nn.Linear(in_features = input_size, out_features = hidden_size)\n",
        "    self.relu = nn.ReLU()\n",
        "    self.fc2 = nn.Linear(in_features = hidden_size, out_features = output_size)\n",
        "    self.sigmoid = nn.Sigmoid()\n",
        "\n",
        "  def forward(self, x):\n",
        "    out = self.fc1(x)\n",
        "    out = self.relu(out)\n",
        "    out = self.fc2(out)\n",
        "    out = self.sigmoid(out)\n",
        "\n",
        "    return out"
      ],
      "metadata": {
        "id": "lwxIN7YNGqRx"
      },
      "execution_count": 27,
      "outputs": []
    },
    {
      "cell_type": "code",
      "source": [
        "# Define Hyperparameters\n",
        "input_size = X_train.shape[1]\n",
        "hidden_size = 64\n",
        "output_size = 1\n",
        "learning_rate = 0.001\n",
        "num_epochs = 100"
      ],
      "metadata": {
        "id": "iEpk_2WEIBT2"
      },
      "execution_count": 28,
      "outputs": []
    },
    {
      "cell_type": "code",
      "source": [
        "# Intialize the model\n",
        "model = NeuralNet(input_size, hidden_size, output_size).to(device)"
      ],
      "metadata": {
        "id": "HUEbRq0rIa8j"
      },
      "execution_count": 29,
      "outputs": []
    },
    {
      "cell_type": "code",
      "source": [
        "model"
      ],
      "metadata": {
        "colab": {
          "base_uri": "https://localhost:8080/"
        },
        "id": "JzEcIzenIkS1",
        "outputId": "94b373f6-b49b-4bd6-acf1-f32d84e7d54f"
      },
      "execution_count": 30,
      "outputs": [
        {
          "output_type": "execute_result",
          "data": {
            "text/plain": [
              "NeuralNet(\n",
              "  (fc1): Linear(in_features=30, out_features=64, bias=True)\n",
              "  (relu): ReLU()\n",
              "  (fc2): Linear(in_features=64, out_features=1, bias=True)\n",
              "  (sigmoid): Sigmoid()\n",
              ")"
            ]
          },
          "metadata": {},
          "execution_count": 30
        }
      ]
    },
    {
      "cell_type": "code",
      "source": [
        "# Define Loss and Optimizer\n",
        "criterion = nn.BCELoss()\n",
        "optimizer = torch.optim.Adam(params=model.parameters(),\n",
        "                             lr = learning_rate)"
      ],
      "metadata": {
        "id": "EbbHZtVCI2mO"
      },
      "execution_count": 31,
      "outputs": []
    },
    {
      "cell_type": "markdown",
      "source": [
        "##**Training Neural Network**"
      ],
      "metadata": {
        "id": "8IsPTQiaJKev"
      }
    },
    {
      "cell_type": "code",
      "source": [
        "for epoch in range(num_epochs):\n",
        "  model.train()\n",
        "  optimizer.zero_grad()\n",
        "  outputs = model(X_train)\n",
        "  loss = criterion(outputs, y_train.view(-1, 1))\n",
        "  loss.backward()\n",
        "  optimizer.step()\n",
        "\n",
        "  # Calculate Accuracy\n",
        "  with torch.no_grad():\n",
        "    predicted = outputs.round()\n",
        "    correct = (predicted == y_train.view(-1, 1)).float().sum()\n",
        "    accuracy = correct/y_train.size(0)\n",
        "\n",
        "  if (epoch+1) % 10 == 0:\n",
        "    print(f'Epoch [{epoch+1}/{num_epochs}], Loss : {loss.item():.4f}, Accuracy: {accuracy.item() * 100:.2f}%')"
      ],
      "metadata": {
        "colab": {
          "base_uri": "https://localhost:8080/"
        },
        "id": "j1e5tlTuJFi2",
        "outputId": "98f8eea4-08b5-48dc-80fb-7ebde0ff8139"
      },
      "execution_count": 35,
      "outputs": [
        {
          "output_type": "stream",
          "name": "stdout",
          "text": [
            "Epoch [10/100], Loss : 0.3461, Accuracy: 95.16%\n",
            "Epoch [20/100], Loss : 0.2771, Accuracy: 96.26%\n",
            "Epoch [30/100], Loss : 0.2280, Accuracy: 96.04%\n",
            "Epoch [40/100], Loss : 0.1929, Accuracy: 96.48%\n",
            "Epoch [50/100], Loss : 0.1674, Accuracy: 96.48%\n",
            "Epoch [60/100], Loss : 0.1484, Accuracy: 96.92%\n",
            "Epoch [70/100], Loss : 0.1337, Accuracy: 96.70%\n",
            "Epoch [80/100], Loss : 0.1221, Accuracy: 97.14%\n",
            "Epoch [90/100], Loss : 0.1125, Accuracy: 97.36%\n",
            "Epoch [100/100], Loss : 0.1045, Accuracy: 97.36%\n"
          ]
        }
      ]
    },
    {
      "cell_type": "markdown",
      "source": [
        "##**Model Evaluation**"
      ],
      "metadata": {
        "id": "0uaY3UR1Lf5e"
      }
    },
    {
      "cell_type": "code",
      "source": [
        "# Evaluation on Training Data\n",
        "model.eval()\n",
        "with torch.no_grad():\n",
        "  outputs = model(X_train)\n",
        "  predicted = outputs.round()\n",
        "  correct = (predicted == y_train.view(-1, 1)).float().sum()\n",
        "  accuracy = correct / y_train.size(0)\n",
        "  print(f'Accuracy on training data: {accuracy.item() * 100:.2f}%')"
      ],
      "metadata": {
        "colab": {
          "base_uri": "https://localhost:8080/"
        },
        "id": "vCSwrYQEK2F_",
        "outputId": "b337d0d7-3556-4222-80ec-581a22492f26"
      },
      "execution_count": 37,
      "outputs": [
        {
          "output_type": "stream",
          "name": "stdout",
          "text": [
            "Accuracy on training data: 97.36%\n"
          ]
        }
      ]
    },
    {
      "cell_type": "code",
      "source": [
        "# Evaluation on Testing data\n",
        "model.eval()\n",
        "with torch.no_grad():\n",
        "  outputs = model(X_test)\n",
        "  predicted = outputs.round()\n",
        "  correct = (predicted == y_test.view(-1, 1)).float().sum()\n",
        "  accuracy = correct / y_test.size(0)\n",
        "  print(f'Accuracy on training data: {accuracy.item() * 100:.2f}%')"
      ],
      "metadata": {
        "colab": {
          "base_uri": "https://localhost:8080/"
        },
        "id": "cAMAg9ivL972",
        "outputId": "4f118523-2465-4d02-8bca-54031a21a802"
      },
      "execution_count": 39,
      "outputs": [
        {
          "output_type": "stream",
          "name": "stdout",
          "text": [
            "Accuracy on training data: 97.37%\n"
          ]
        }
      ]
    },
    {
      "cell_type": "code",
      "source": [],
      "metadata": {
        "id": "vz_9cca0MGrt"
      },
      "execution_count": null,
      "outputs": []
    }
  ]
}